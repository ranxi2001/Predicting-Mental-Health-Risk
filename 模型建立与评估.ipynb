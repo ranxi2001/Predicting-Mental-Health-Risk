{
 "cells": [
  {
   "cell_type": "markdown",
   "id": "e2f7155c96ad24a7",
   "metadata": {},
   "source": [
    "# 1. 导入库和设置环境"
   ]
  },
  {
   "cell_type": "code",
   "id": "a828e1e0fd28af8b",
   "metadata": {
    "ExecuteTime": {
     "end_time": "2025-05-14T16:07:24.215549Z",
     "start_time": "2025-05-14T16:07:24.191084Z"
    }
   },
   "source": [
    "# 导入必要的库\n",
    "import pandas as pd\n",
    "import numpy as np\n",
    "import matplotlib.pyplot as plt\n",
    "import seaborn as sns\n",
    "import joblib\n",
    "import time\n",
    "from sklearn.metrics import accuracy_score, precision_score, recall_score, f1_score\n",
    "from sklearn.metrics import classification_report, confusion_matrix\n",
    "from sklearn.metrics import roc_curve, auc, precision_recall_curve\n",
    "from sklearn.model_selection import GridSearchCV, cross_val_score\n",
    "\n",
    "# 导入模型\n",
    "from sklearn.linear_model import LogisticRegression\n",
    "from sklearn.tree import DecisionTreeClassifier\n",
    "from sklearn.ensemble import RandomForestClassifier, GradientBoostingClassifier\n",
    "from sklearn.svm import SVC\n",
    "from sklearn.neighbors import KNeighborsClassifier\n",
    "from sklearn.naive_bayes import GaussianNB\n",
    "from sklearn.neural_network import MLPClassifier\n",
    "\n",
    "# 尝试导入XGBoost，如果不可用则跳过\n",
    "try:\n",
    "    import xgboost as xgb\n",
    "    has_xgboost = True\n",
    "except ImportError:\n",
    "    print(\"Warning: XGBoost is not installed. XGBoost model will be skipped.\")\n",
    "    has_xgboost = False\n",
    "\n",
    "# 尝试导入SHAP，如果不可用则跳过\n",
    "try:\n",
    "    import shap\n",
    "    has_shap = True\n",
    "except ImportError:\n",
    "    print(\"Warning: SHAP is not installed. SHAP analysis will be skipped.\")\n",
    "    has_shap = False\n",
    "\n",
    "# 设置中文显示\n",
    "plt.rcParams['font.sans-serif'] = ['SimHei']  # 用来正常显示中文标签\n",
    "plt.rcParams['axes.unicode_minus'] = False    # 用来正常显示负号\n",
    "\n",
    "# 设置全局参数\n",
    "RANDOM_STATE = 42\n",
    "CV_FOLDS = 5\n",
    "N_JOBS = -1  # 使用所有可用CPU核心"
   ],
   "outputs": [
    {
     "name": "stdout",
     "output_type": "stream",
     "text": [
      "Warning: SHAP is not installed. SHAP analysis will be skipped.\n"
     ]
    }
   ],
   "execution_count": 21
  },
  {
   "cell_type": "markdown",
   "id": "79125a110f38b1dd",
   "metadata": {},
   "source": [
    "# 2. 数据加载与检查"
   ]
  },
  {
   "cell_type": "code",
   "id": "31a07051ac9678ac",
   "metadata": {
    "ExecuteTime": {
     "end_time": "2025-05-14T16:07:24.354729Z",
     "start_time": "2025-05-14T16:07:24.311006Z"
    }
   },
   "source": [
    "# 1. 加载预处理后的数据\n",
    "print(\"=== Loading preprocessed data ===\")\n",
    "X_train = pd.read_csv('X_train.csv')\n",
    "X_test = pd.read_csv('X_test.csv')\n",
    "y_train = pd.read_csv('y_train.csv').values.ravel()\n",
    "y_test = pd.read_csv('y_test.csv').values.ravel()\n",
    "\n",
    "# 加载标签编码器以获取类别名称\n",
    "label_encoder = joblib.load('label_encoder.pkl')\n",
    "class_names = label_encoder.classes_\n",
    "print(f\"Class names: {class_names}\")\n",
    "\n",
    "print(f\"Training data shape: {X_train.shape}\")\n",
    "print(f\"Testing data shape: {X_test.shape}\")\n",
    "print(f\"Feature names: {X_train.columns.tolist()}\")\n",
    "\n",
    "# 检查类别分布\n",
    "print(\"\\nTarget distribution in training data:\")\n",
    "train_dist = pd.Series(y_train).value_counts(normalize=True)\n",
    "print(train_dist)"
   ],
   "outputs": [
    {
     "name": "stdout",
     "output_type": "stream",
     "text": [
      "=== Loading preprocessed data ===\n",
      "Class names: ['High' 'Low' 'Medium']\n",
      "Training data shape: (8000, 17)\n",
      "Testing data shape: (2000, 17)\n",
      "Feature names: ['age', 'stress_level', 'sleep_hours', 'physical_activity_days', 'depression_score', 'anxiety_score', 'social_support_score', 'mental_health_history', 'seeks_treatment', 'treatment_history_interaction', 'gender_Male', 'gender_Other', 'employment_status_Self-employed', 'employment_status_Student', 'employment_status_Unemployed', 'work_environment_On-site', 'work_environment_Remote']\n",
      "\n",
      "Target distribution in training data:\n",
      "2    0.589250\n",
      "0    0.236875\n",
      "1    0.173875\n",
      "dtype: float64\n"
     ]
    }
   ],
   "execution_count": 22
  },
  {
   "cell_type": "markdown",
   "id": "2de85b67b1ad0a03",
   "metadata": {},
   "source": [
    "# 3. 模型评估函数"
   ]
  },
  {
   "cell_type": "code",
   "id": "94377c46ff193d5",
   "metadata": {
    "ExecuteTime": {
     "end_time": "2025-05-14T16:07:24.400478Z",
     "start_time": "2025-05-14T16:07:24.387773Z"
    }
   },
   "source": [
    "def evaluate_model(model, X_train, X_test, y_train, y_test, class_names):\n",
    "    \"\"\"评估模型性能并返回结果\"\"\"\n",
    "    # 训练时间\n",
    "    start_time = time.time()\n",
    "    model.fit(X_train, y_train)\n",
    "    train_time = time.time() - start_time\n",
    "    \n",
    "    # 预测\n",
    "    start_time = time.time()\n",
    "    y_pred = model.predict(X_test)\n",
    "    predict_time = time.time() - start_time\n",
    "    \n",
    "    # 计算评估指标\n",
    "    accuracy = accuracy_score(y_test, y_pred)\n",
    "    precision = precision_score(y_test, y_pred, average='weighted')\n",
    "    recall = recall_score(y_test, y_pred, average='weighted')\n",
    "    f1 = f1_score(y_test, y_pred, average='weighted')\n",
    "    \n",
    "    # 对\"High\"风险类别的特定评估\n",
    "    high_idx = np.where(class_names == 'High')[0][0]\n",
    "    high_precision = precision_score(y_test, y_pred, labels=[high_idx], average='micro')\n",
    "    high_recall = recall_score(y_test, y_pred, labels=[high_idx], average='micro')\n",
    "    high_f1 = f1_score(y_test, y_pred, labels=[high_idx], average='micro')\n",
    "    \n",
    "    # 返回结果字典\n",
    "    return {\n",
    "        'model': model.__class__.__name__,\n",
    "        'accuracy': accuracy,\n",
    "        'precision': precision,\n",
    "        'recall': recall,\n",
    "        'f1_score': f1,\n",
    "        'high_precision': high_precision,\n",
    "        'high_recall': high_recall,\n",
    "        'high_f1': high_f1,\n",
    "        'train_time': train_time,\n",
    "        'predict_time': predict_time,\n",
    "        'model_object': model,\n",
    "        'predictions': y_pred\n",
    "    }"
   ],
   "outputs": [],
   "execution_count": 23
  },
  {
   "cell_type": "markdown",
   "id": "66caaceb780c1d10",
   "metadata": {},
   "source": [
    "# 4. 混淆矩阵可视化函数"
   ]
  },
  {
   "cell_type": "code",
   "id": "a4896103158214e5",
   "metadata": {
    "ExecuteTime": {
     "end_time": "2025-05-14T16:07:24.446829Z",
     "start_time": "2025-05-14T16:07:24.432250Z"
    }
   },
   "source": [
    "def plot_confusion_matrix(y_true, y_pred, class_names, model_name):\n",
    "    \"\"\"绘制混淆矩阵\"\"\"\n",
    "    cm = confusion_matrix(y_true, y_pred)\n",
    "    plt.figure(figsize=(8, 6))\n",
    "    sns.heatmap(cm, annot=True, fmt=\"d\", cmap='Blues', xticklabels=class_names, yticklabels=class_names)\n",
    "    plt.title(f'Confusion Matrix - {model_name}')\n",
    "    plt.ylabel('True Label')\n",
    "    plt.xlabel('Predicted Label')\n",
    "    plt.tight_layout()\n",
    "    plt.savefig(f'{model_name.replace(\" \", \"_\")}_confusion_matrix.png', dpi=300)\n",
    "    plt.close()"
   ],
   "outputs": [],
   "execution_count": 24
  },
  {
   "cell_type": "markdown",
   "id": "87fa2ab3811695ec",
   "metadata": {},
   "source": [
    "# 5. 模型创建函数"
   ]
  },
  {
   "cell_type": "code",
   "id": "f16602aaec08f16a",
   "metadata": {
    "ExecuteTime": {
     "end_time": "2025-05-14T16:07:24.494562Z",
     "start_time": "2025-05-14T16:07:24.479343Z"
    }
   },
   "source": [
    "def create_models():\n",
    "    \"\"\"创建要评估的模型列表\"\"\"\n",
    "    models = []\n",
    "    \n",
    "    # 逻辑回归（带类别权重）\n",
    "    models.append((\"Logistic Regression\", \n",
    "                   LogisticRegression(class_weight='balanced', max_iter=1000, random_state=RANDOM_STATE)))\n",
    "    \n",
    "    # 决策树\n",
    "    models.append((\"Decision Tree\", \n",
    "                   DecisionTreeClassifier(class_weight='balanced', random_state=RANDOM_STATE)))\n",
    "    \n",
    "    # 随机森林\n",
    "    models.append((\"Random Forest\", \n",
    "                   RandomForestClassifier(class_weight='balanced', n_estimators=100, random_state=RANDOM_STATE)))\n",
    "    \n",
    "    # 梯度提升树\n",
    "    models.append((\"Gradient Boosting\", \n",
    "                   GradientBoostingClassifier(n_estimators=100, random_state=RANDOM_STATE)))\n",
    "    \n",
    "    # XGBoost (如果可用)\n",
    "    if has_xgboost:\n",
    "        models.append((\"XGBoost\", \n",
    "                      xgb.XGBClassifier(scale_pos_weight=1, random_state=RANDOM_STATE)))\n",
    "    \n",
    "    # 支持向量机\n",
    "    models.append((\"SVM\", \n",
    "                   SVC(class_weight='balanced', probability=True, random_state=RANDOM_STATE)))\n",
    "    \n",
    "    # K最近邻\n",
    "    models.append((\"KNN\", \n",
    "                   KNeighborsClassifier(n_neighbors=5)))\n",
    "    \n",
    "    # 朴素贝叶斯\n",
    "    models.append((\"Naive Bayes\", \n",
    "                   GaussianNB()))\n",
    "    \n",
    "    # 神经网络\n",
    "    models.append((\"Neural Network\", \n",
    "                   MLPClassifier(hidden_layer_sizes=(100,), max_iter=1000, random_state=RANDOM_STATE)))\n",
    "    \n",
    "    return models"
   ],
   "outputs": [],
   "execution_count": 25
  },
  {
   "cell_type": "markdown",
   "id": "d4d54211e2f0509b",
   "metadata": {},
   "source": [
    "# 6. 模型训练与评估函数"
   ]
  },
  {
   "cell_type": "code",
   "id": "c0ed95f783107d44",
   "metadata": {
    "ExecuteTime": {
     "end_time": "2025-05-14T16:07:24.541052Z",
     "start_time": "2025-05-14T16:07:24.526140Z"
    }
   },
   "source": [
    "def train_and_evaluate_models(models, X_train, X_test, y_train, y_test, class_names):\n",
    "    \"\"\"训练并评估所有模型\"\"\"\n",
    "    results = []\n",
    "    \n",
    "    print(\"\\n=== Model Training and Evaluation ===\")\n",
    "    for name, model in models:\n",
    "        print(f\"\\nTraining {name}...\")\n",
    "        result = evaluate_model(model, X_train, X_test, y_train, y_test, class_names)\n",
    "        results.append(result)\n",
    "        \n",
    "        # 打印结果\n",
    "        print(f\"Accuracy: {result['accuracy']:.4f}\")\n",
    "        print(f\"Precision: {result['precision']:.4f}\")\n",
    "        print(f\"Recall: {result['recall']:.4f}\")\n",
    "        print(f\"F1 Score: {result['f1_score']:.4f}\")\n",
    "        print(f\"High Risk Class - Precision: {result['high_precision']:.4f}, Recall: {result['high_recall']:.4f}\")\n",
    "        print(f\"Training Time: {result['train_time']:.2f} seconds\")\n",
    "        \n",
    "        # 绘制混淆矩阵\n",
    "        plot_confusion_matrix(y_test, result['predictions'], class_names, name)\n",
    "        \n",
    "        # 保存模型\n",
    "        joblib.dump(model, f'{name.replace(\" \", \"_\").lower()}_model.pkl')\n",
    "    \n",
    "    return results"
   ],
   "outputs": [],
   "execution_count": 26
  },
  {
   "cell_type": "markdown",
   "id": "29009f7ce4c18e03",
   "metadata": {},
   "source": []
  },
  {
   "cell_type": "markdown",
   "id": "29e73c7ab3f0bde6",
   "metadata": {},
   "source": [
    "# 7. 模型比较函数"
   ]
  },
  {
   "cell_type": "code",
   "id": "72b503e5a6600de1",
   "metadata": {
    "ExecuteTime": {
     "end_time": "2025-05-14T16:07:24.586923Z",
     "start_time": "2025-05-14T16:07:24.574784Z"
    }
   },
   "source": [
    "def compare_models(results):\n",
    "    \"\"\"比较不同模型的性能\"\"\"\n",
    "    # 创建结果DataFrame\n",
    "    result_df = pd.DataFrame(results)\n",
    "    # 确保'model_object'和'predictions'列存在再进行删除\n",
    "    if 'model_object' in result_df.columns:\n",
    "        result_df = result_df.drop(['model_object'], axis=1)\n",
    "    if 'predictions' in result_df.columns:\n",
    "        result_df = result_df.drop(['predictions'], axis=1)\n",
    "    \n",
    "    # 保存结果\n",
    "    result_df.to_csv('model_comparison_results.csv', index=False)\n",
    "    \n",
    "    # 可视化比较\n",
    "    plt.figure(figsize=(14, 8))\n",
    "    \n",
    "    # 绘制主要指标\n",
    "    metrics = ['accuracy', 'precision', 'recall', 'f1_score']\n",
    "    plt.subplot(1, 2, 1)\n",
    "    result_df[['model'] + metrics].set_index('model').plot(kind='bar', figsize=(12, 6))\n",
    "    plt.title('Model Performance Comparison (Overall)')\n",
    "    plt.ylabel('Score')\n",
    "    plt.ylim(0, 1)\n",
    "    plt.grid(axis='y', linestyle='--', alpha=0.7)\n",
    "    plt.legend(loc='lower right')\n",
    "    \n",
    "    # 绘制高风险类别特定指标\n",
    "    high_metrics = ['high_precision', 'high_recall', 'high_f1']\n",
    "    plt.subplot(1, 2, 2)\n",
    "    result_df[['model'] + high_metrics].set_index('model').plot(kind='bar', figsize=(12, 6))\n",
    "    plt.title('Model Performance Comparison (High Risk Class)')\n",
    "    plt.ylabel('Score')\n",
    "    plt.ylim(0, 1)\n",
    "    plt.grid(axis='y', linestyle='--', alpha=0.7)\n",
    "    plt.legend(['Precision', 'Recall', 'F1'], loc='lower right')\n",
    "    \n",
    "    plt.tight_layout()\n",
    "    plt.savefig('model_comparison.png', dpi=300)\n",
    "    plt.close()\n",
    "    \n",
    "    return result_df"
   ],
   "outputs": [],
   "execution_count": 27
  },
  {
   "cell_type": "markdown",
   "id": "766d207bfb167f89",
   "metadata": {},
   "source": [
    "# 8. 特征重要性分析函数"
   ]
  },
  {
   "cell_type": "code",
   "id": "1447019be45685f2",
   "metadata": {
    "ExecuteTime": {
     "end_time": "2025-05-14T16:07:24.633077Z",
     "start_time": "2025-05-14T16:07:24.620294Z"
    }
   },
   "source": [
    "def analyze_feature_importance(models_results, X_train):\n",
    "    \"\"\"分析并可视化特征重要性\"\"\"\n",
    "    # 仅选择支持特征重要性的模型\n",
    "    importance_models = {\n",
    "        'LogisticRegression': None,\n",
    "        'DecisionTreeClassifier': None,\n",
    "        'RandomForestClassifier': None,\n",
    "        'GradientBoostingClassifier': None\n",
    "    }\n",
    "    \n",
    "    if has_xgboost:\n",
    "        importance_models['XGBClassifier'] = None\n",
    "    \n",
    "    for result in models_results:\n",
    "        model_class = result['model']\n",
    "        if model_class in importance_models:\n",
    "            importance_models[model_class] = result['model_object']\n",
    "    \n",
    "    feature_names = X_train.columns\n",
    "    \n",
    "    # 对每个支持的模型分析特征重要性\n",
    "    for model_class, model in importance_models.items():\n",
    "        if model is None:\n",
    "            continue\n",
    "            \n",
    "        plt.figure(figsize=(10, 8))\n",
    "        \n",
    "        if model_class == 'LogisticRegression':\n",
    "            # 对于逻辑回归，使用系数绝对值\n",
    "            if hasattr(model, 'coef_'):\n",
    "                # 多类别情况下，取平均绝对值\n",
    "                if len(model.coef_.shape) > 1 and model.coef_.shape[0] > 1:\n",
    "                    importances = np.mean(np.abs(model.coef_), axis=0)\n",
    "                else:\n",
    "                    importances = np.abs(model.coef_[0])\n",
    "                \n",
    "                indices = np.argsort(importances)[::-1]\n",
    "                plt.barh(range(len(indices)), importances[indices], align='center')\n",
    "                plt.yticks(range(len(indices)), [feature_names[i] for i in indices])\n",
    "                plt.title(f'Feature Importance - {model_class}')\n",
    "                plt.xlabel('Coefficient Magnitude')\n",
    "        else:\n",
    "            # 对于树模型，使用内置的特征重要性\n",
    "            if hasattr(model, 'feature_importances_'):\n",
    "                importances = model.feature_importances_\n",
    "                indices = np.argsort(importances)[::-1]\n",
    "                plt.barh(range(len(indices)), importances[indices], align='center')\n",
    "                plt.yticks(range(len(indices)), [feature_names[i] for i in indices])\n",
    "                plt.title(f'Feature Importance - {model_class}')\n",
    "                plt.xlabel('Importance')\n",
    "        \n",
    "        plt.tight_layout()\n",
    "        plt.savefig(f'{model_class.lower()}_feature_importance.png', dpi=300)\n",
    "        plt.close()"
   ],
   "outputs": [],
   "execution_count": 28
  },
  {
   "cell_type": "markdown",
   "id": "c63f680790847dba",
   "metadata": {},
   "source": [
    "# 9. SHAP值分析函数"
   ]
  },
  {
   "cell_type": "code",
   "id": "579238705908d9a4",
   "metadata": {
    "ExecuteTime": {
     "end_time": "2025-05-14T16:07:24.710084Z",
     "start_time": "2025-05-14T16:07:24.697154Z"
    }
   },
   "source": [
    "def analyze_shap_values(models_results, X_train, X_test, feature_names):\n",
    "    \"\"\"使用SHAP值解释模型预测\"\"\"\n",
    "    if not has_shap:\n",
    "        print(\"SHAP analysis skipped because SHAP is not installed.\")\n",
    "        return\n",
    "    \n",
    "    # 选择最佳模型进行SHAP分析\n",
    "    best_model_result = max(models_results, key=lambda x: x['f1_score'])\n",
    "    best_model = best_model_result['model_object']\n",
    "    \n",
    "    print(f\"\\n=== SHAP Analysis for {best_model_result['model']} ===\")\n",
    "    \n",
    "    try:\n",
    "        # 创建SHAP解释器\n",
    "        if best_model_result['model'] in ['LogisticRegression', 'SVC', 'KNeighborsClassifier', 'MLPClassifier']:\n",
    "            # 线性模型或黑盒模型使用KernelExplainer\n",
    "            # 使用训练数据的子集作为背景数据\n",
    "            background = shap.kmeans(X_train, 50)\n",
    "            explainer = shap.KernelExplainer(best_model.predict_proba, background)\n",
    "            shap_values = explainer.shap_values(X_test[:100])  # 计算测试集部分样本的SHAP值\n",
    "        else:\n",
    "            # 树模型使用TreeExplainer\n",
    "            explainer = shap.TreeExplainer(best_model)\n",
    "            shap_values = explainer.shap_values(X_test)\n",
    "        \n",
    "        # SHAP摘要图\n",
    "        plt.figure(figsize=(12, 10))\n",
    "        if isinstance(shap_values, list):  # 多类别情况\n",
    "            # 查找高风险类别的索引\n",
    "            high_idx = np.where(best_model.classes_ == 2)[0][0]  # 假设2表示高风险\n",
    "            shap.summary_plot(shap_values[high_idx], X_test, feature_names=feature_names, show=False)\n",
    "        else:  # 二分类或回归\n",
    "            shap.summary_plot(shap_values, X_test, feature_names=feature_names, show=False)\n",
    "        \n",
    "        plt.title(f'SHAP Summary Plot - {best_model_result[\"model\"]}')\n",
    "        plt.tight_layout()\n",
    "        plt.savefig('shap_summary_plot.png', dpi=300)\n",
    "        plt.close()\n",
    "        \n",
    "        # 高风险样本的SHAP力量图\n",
    "        # 找出预测为高风险的几个样本\n",
    "        if isinstance(shap_values, list):\n",
    "            high_risk_pred = best_model.predict(X_test)\n",
    "            high_risk_indices = np.where(high_risk_pred == 2)[0][:3]  # 取前3个高风险预测\n",
    "            \n",
    "            for i, idx in enumerate(high_risk_indices):\n",
    "                plt.figure(figsize=(12, 6))\n",
    "                shap.force_plot(\n",
    "                    explainer.expected_value[high_idx],\n",
    "                    shap_values[high_idx][idx, :],\n",
    "                    X_test.iloc[idx, :],\n",
    "                    feature_names=feature_names,\n",
    "                    matplotlib=True,\n",
    "                    show=False\n",
    "                )\n",
    "                plt.title(f'High Risk Sample {i+1} Explanation')\n",
    "                plt.tight_layout()\n",
    "                plt.savefig(f'high_risk_sample_{i+1}_explanation.png', dpi=300)\n",
    "                plt.close()\n",
    "    except Exception as e:\n",
    "        print(f\"Error during SHAP analysis: {e}\")\n",
    "        print(\"Skipping SHAP analysis.\")"
   ],
   "outputs": [],
   "execution_count": 29
  },
  {
   "cell_type": "markdown",
   "id": "d061536bbd45c3b9",
   "metadata": {},
   "source": [
    "# 10. 模型优化函数"
   ]
  },
  {
   "cell_type": "code",
   "id": "690628a83db9f84d",
   "metadata": {
    "ExecuteTime": {
     "end_time": "2025-05-14T16:07:24.835738Z",
     "start_time": "2025-05-14T16:07:24.821587Z"
    }
   },
   "source": [
    "def optimize_top_models(X_train, y_train, results, X_test, y_test, class_names):\n",
    "    \"\"\"对表现最好的几个模型进行超参数调优\"\"\"\n",
    "    # 选择F1分数最高的前3个模型\n",
    "    top_models = sorted(results, key=lambda x: x['f1_score'], reverse=True)[:3]\n",
    "    \n",
    "    print(\"\\n=== Hyperparameter Optimization for Top Models ===\")\n",
    "    optimized_models = []\n",
    "    \n",
    "    for result in top_models:\n",
    "        model_class = result['model']\n",
    "        print(f\"\\nOptimizing {model_class}...\")\n",
    "        \n",
    "        # 根据模型类型设置参数网格\n",
    "        param_grid = {}\n",
    "        model = None\n",
    "        \n",
    "        if model_class == 'LogisticRegression':\n",
    "            param_grid = {\n",
    "                'C': [0.01, 0.1, 1, 10, 100],\n",
    "                'solver': ['liblinear', 'saga']\n",
    "            }\n",
    "            model = LogisticRegression(class_weight='balanced', max_iter=1000, random_state=RANDOM_STATE)\n",
    "        \n",
    "        elif model_class == 'RandomForestClassifier':\n",
    "            param_grid = {\n",
    "                'n_estimators': [50, 100, 200],\n",
    "                'max_depth': [None, 10, 20, 30],\n",
    "                'min_samples_split': [2, 5, 10]\n",
    "            }\n",
    "            model = RandomForestClassifier(class_weight='balanced', random_state=RANDOM_STATE)\n",
    "        \n",
    "        elif model_class == 'GradientBoostingClassifier':\n",
    "            param_grid = {\n",
    "                'n_estimators': [50, 100, 200],\n",
    "                'learning_rate': [0.01, 0.1, 0.2],\n",
    "                'max_depth': [3, 5, 7]\n",
    "            }\n",
    "            model = GradientBoostingClassifier(random_state=RANDOM_STATE)\n",
    "        \n",
    "        elif has_xgboost and model_class == 'XGBClassifier':\n",
    "            param_grid = {\n",
    "                'n_estimators': [50, 100, 200],\n",
    "                'learning_rate': [0.01, 0.1, 0.2],\n",
    "                'max_depth': [3, 5, 7],\n",
    "                'subsample': [0.8, 1.0]\n",
    "            }\n",
    "            model = xgb.XGBClassifier(random_state=RANDOM_STATE)\n",
    "        \n",
    "        elif model_class == 'SVC':\n",
    "            param_grid = {\n",
    "                'C': [0.1, 1, 10],\n",
    "                'gamma': ['scale', 'auto', 0.1, 1],\n",
    "                'kernel': ['rbf', 'linear']\n",
    "            }\n",
    "            model = SVC(class_weight='balanced', probability=True, random_state=RANDOM_STATE)\n",
    "        \n",
    "        elif model_class == 'MLPClassifier':\n",
    "            param_grid = {\n",
    "                'hidden_layer_sizes': [(50,), (100,), (50, 50), (100, 50)],\n",
    "                'alpha': [0.0001, 0.001, 0.01],\n",
    "                'learning_rate': ['constant', 'adaptive']\n",
    "            }\n",
    "            model = MLPClassifier(max_iter=1000, random_state=RANDOM_STATE)\n",
    "        \n",
    "        # 进行网格搜索\n",
    "        if model is not None and param_grid:\n",
    "            grid_search = GridSearchCV(model, param_grid, scoring='f1_weighted', cv=CV_FOLDS, n_jobs=N_JOBS)\n",
    "            grid_search.fit(X_train, y_train)\n",
    "            \n",
    "            best_model = grid_search.best_estimator_\n",
    "            best_params = grid_search.best_params_\n",
    "            best_score = grid_search.best_score_\n",
    "            \n",
    "            print(f\"Best Parameters: {best_params}\")\n",
    "            print(f\"Best CV Score: {best_score:.4f}\")\n",
    "            \n",
    "            # 评估优化后的模型\n",
    "            optimized_result = evaluate_model(best_model, X_train, X_test, y_train, y_test, class_names)\n",
    "            optimized_result['model'] = f\"{model_class} (Optimized)\"\n",
    "            optimized_models.append(optimized_result)\n",
    "            \n",
    "            # 保存优化后的模型\n",
    "            joblib.dump(best_model, f'{model_class.lower()}_optimized_model.pkl')\n",
    "    \n",
    "    # 返回优化后的模型结果\n",
    "    return optimized_models"
   ],
   "outputs": [],
   "execution_count": 30
  },
  {
   "cell_type": "markdown",
   "id": "55998406af6fd4b1",
   "metadata": {},
   "source": [
    "# 11. 主函数"
   ]
  },
  {
   "metadata": {
    "ExecuteTime": {
     "end_time": "2025-05-14T16:07:24.866056Z",
     "start_time": "2025-05-14T16:07:24.852078Z"
    }
   },
   "cell_type": "code",
   "source": [
    "# # 创建模型\n",
    "# print(\"Creating models...\")\n",
    "# models = create_models()\n",
    "# \n",
    "# # 训练和评估模型\n",
    "# print(\"Training and evaluating models...\")\n",
    "# results = train_and_evaluate_models(models, X_train, X_test, y_train, y_test, class_names)\n",
    "# \n",
    "# # 比较模型性能\n",
    "# print(\"Comparing model performance...\")\n",
    "# result_df = compare_models(results)\n",
    "# print(\"\\nModel Performance Summary:\")\n",
    "# print(result_df[['model', 'accuracy', 'f1_score', 'high_recall']].sort_values('f1_score', ascending=False))\n",
    "# \n",
    "# # 分析特征重要性\n",
    "# print(\"\\nAnalyzing feature importance...\")\n",
    "# analyze_feature_importance(results, X_train)\n",
    "# \n",
    "# # SHAP值分析 (如果有SHAP)\n",
    "# if has_shap:\n",
    "#     print(\"\\nConducting SHAP analysis...\")\n",
    "#     analyze_shap_values(results, X_train, X_test, X_train.columns)\n",
    "# else:\n",
    "#     print(\"\\nSkipping SHAP analysis (SHAP not available).\")\n",
    "# \n",
    "# # 优化表现最好的模型\n",
    "# print(\"\\nOptimizing top-performing models...\")\n",
    "# optimized_results = optimize_top_models(X_train, y_train, results, X_test, y_test, class_names)\n",
    "# \n",
    "# # 将优化后的模型结果与原始结果合并并比较\n",
    "# all_results = results + optimized_results\n",
    "# final_df = compare_models(all_results)\n",
    "# print(\"\\nFinal Model Performance Summary (Including Optimized Models):\")\n",
    "# print(final_df[['model', 'accuracy', 'f1_score', 'high_recall']].sort_values('f1_score', ascending=False))\n",
    "# \n",
    "# # 选择最佳模型\n",
    "# best_model_result = max(all_results, key=lambda x: x['f1_score'])\n",
    "# print(f\"\\nBest Model: {best_model_result['model']}\")\n",
    "# print(f\"F1 Score: {best_model_result['f1_score']:.4f}\")\n",
    "# print(f\"High Risk Recall: {best_model_result['high_recall']:.4f}\")\n",
    "# \n",
    "# print(\"\\nAnalysis complete!\")"
   ],
   "id": "3e342ac761559827",
   "outputs": [],
   "execution_count": 31
  },
  {
   "cell_type": "markdown",
   "id": "838b1417",
   "metadata": {},
   "source": [
    "# 12. 单独运行一个指定模型\n",
    "可修改参数和模型列表："
   ]
  },
  {
   "cell_type": "code",
   "id": "6caab625",
   "metadata": {
    "ExecuteTime": {
     "end_time": "2025-05-14T16:07:24.928353Z",
     "start_time": "2025-05-14T16:07:24.899747Z"
    }
   },
   "source": [
    "def run_specific_model(model_name, X_train, X_test, y_train, y_test, class_names):\n",
    "    \"\"\"\n",
    "    运行指定的单个模型，进行训练、评估和可视化\n",
    "    \n",
    "    参数:\n",
    "    model_name: 字符串，指定要运行的模型名称\n",
    "    X_train, X_test, y_train, y_test: 训练和测试数据\n",
    "    class_names: 类别名称列表\n",
    "    \n",
    "    返回:\n",
    "    model_result: 包含模型评估结果的字典\n",
    "    \"\"\"\n",
    "    print(f\"=== 运行指定模型: {model_name} ===\")\n",
    "    \n",
    "    # 创建模型实例\n",
    "    model = None\n",
    "    if model_name == \"LogisticRegression\":\n",
    "        model = LogisticRegression(class_weight='balanced', max_iter=1000, random_state=RANDOM_STATE)\n",
    "    elif model_name == \"DecisionTree\":\n",
    "        model = DecisionTreeClassifier(class_weight='balanced', random_state=RANDOM_STATE)\n",
    "    elif model_name == \"RandomForest\":\n",
    "        model = RandomForestClassifier(class_weight='balanced', n_estimators=100, random_state=RANDOM_STATE)\n",
    "    elif model_name == \"GradientBoosting\":\n",
    "        model = GradientBoostingClassifier(n_estimators=100, random_state=RANDOM_STATE)\n",
    "    elif model_name == \"XGBoost\" and has_xgboost:\n",
    "        model = xgb.XGBClassifier(scale_pos_weight=1, random_state=RANDOM_STATE)\n",
    "    elif model_name == \"SVM\":\n",
    "        model = SVC(class_weight='balanced', probability=True, random_state=RANDOM_STATE)\n",
    "    elif model_name == \"KNN\":\n",
    "        model = KNeighborsClassifier(n_neighbors=5)\n",
    "    elif model_name == \"NaiveBayes\":\n",
    "        model = GaussianNB()\n",
    "    elif model_name == \"NeuralNetwork\":\n",
    "        model = MLPClassifier(hidden_layer_sizes=(100,), max_iter=1000, random_state=RANDOM_STATE)\n",
    "    else:\n",
    "        raise ValueError(f\"不支持的模型名称: {model_name}\")\n",
    "    \n",
    "    # 评估模型\n",
    "    result = evaluate_model(model, X_train, X_test, y_train, y_test, class_names)\n",
    "    \n",
    "    # 打印结果\n",
    "    print(\"\\n模型评估结果:\")\n",
    "    print(f\"准确率: {result['accuracy']:.4f}\")\n",
    "    print(f\"精确率: {result['precision']:.4f}\")\n",
    "    print(f\"召回率: {result['recall']:.4f}\")\n",
    "    print(f\"F1分数: {result['f1_score']:.4f}\")\n",
    "    print(f\"高风险类别 - 精确率: {result['high_precision']:.4f}, 召回率: {result['high_recall']:.4f}\")\n",
    "    print(f\"训练时间: {result['train_time']:.2f} 秒\")\n",
    "    \n",
    "    # 绘制混淆矩阵\n",
    "    plot_confusion_matrix(y_test, result['predictions'], class_names, model_name)\n",
    "    \n",
    "    # 如果是支持特征重要性的模型，则绘制特征重要性\n",
    "    if model_name in [\"LogisticRegression\", \"DecisionTree\", \"RandomForest\", \"GradientBoosting\", \"XGBoost\"]:\n",
    "        print(\"\\n分析特征重要性...\")\n",
    "        feature_names = X_train.columns\n",
    "        plt.figure(figsize=(10, 8))\n",
    "        \n",
    "        if model_name == \"LogisticRegression\":\n",
    "            # 对于逻辑回归，使用系数绝对值\n",
    "            if hasattr(model, 'coef_'):\n",
    "                # 多类别情况下，取平均绝对值\n",
    "                if len(model.coef_.shape) > 1 and model.coef_.shape[0] > 1:\n",
    "                    importances = np.mean(np.abs(model.coef_), axis=0)\n",
    "                else:\n",
    "                    importances = np.abs(model.coef_[0])\n",
    "                \n",
    "                indices = np.argsort(importances)[::-1]\n",
    "                plt.barh(range(len(indices)), importances[indices], align='center')\n",
    "                plt.yticks(range(len(indices)), [feature_names[i] for i in indices])\n",
    "                plt.title(f'特征重要性 - {model_name}')\n",
    "                plt.xlabel('系数幅度')\n",
    "        else:\n",
    "            # 对于树模型，使用内置的特征重要性\n",
    "            if hasattr(model, 'feature_importances_'):\n",
    "                importances = model.feature_importances_\n",
    "                indices = np.argsort(importances)[::-1]\n",
    "                plt.barh(range(len(indices)), importances[indices], align='center')\n",
    "                plt.yticks(range(len(indices)), [feature_names[i] for i in indices])\n",
    "                plt.title(f'特征重要性 - {model_name}')\n",
    "                plt.xlabel('重要性')\n",
    "        \n",
    "        plt.tight_layout()\n",
    "        plt.show()\n",
    "    \n",
    "    # 保存模型\n",
    "    joblib.dump(model, f'{model_name.lower()}_model.pkl')\n",
    "    print(f\"\\n模型已保存为 {model_name.lower()}_model.pkl\")\n",
    "    \n",
    "    return result\n",
    "\n",
    "# 使用示例\n",
    "# 可以这样调用:\n",
    "# model_result = run_specific_model(\"RandomForest\", X_train, X_test, y_train, y_test, class_names)"
   ],
   "outputs": [],
   "execution_count": 32
  },
  {
   "metadata": {
    "ExecuteTime": {
     "end_time": "2025-05-14T16:07:26.306741Z",
     "start_time": "2025-05-14T16:07:24.960653Z"
    }
   },
   "cell_type": "code",
   "source": [
    "# 选择要运行的模型\n",
    "selected_model = \"RandomForest\"  # 可选: \"LogisticRegression\", \"DecisionTree\", \"RandomForest\", \"GradientBoosting\", \"XGBoost\", \"SVM\", \"KNN\", \"NaiveBayes\", \"NeuralNetwork\"\n",
    "\n",
    "# 运行选定的模型\n",
    "model_result = run_specific_model(selected_model, X_train, X_test, y_train, y_test, class_names)\n",
    "\n",
    "# 输出主要结果摘要\n",
    "print(f\"\\n{selected_model} 模型总结:\")\n",
    "print(f\"总体 F1 分数: {model_result['f1_score']:.4f}\")\n",
    "print(f\"高风险类别识别能力 (召回率): {model_result['high_recall']:.4f}\")"
   ],
   "id": "e5179ee2604824b2",
   "outputs": [
    {
     "name": "stdout",
     "output_type": "stream",
     "text": [
      "=== 运行指定模型: RandomForest ===\n",
      "\n",
      "模型评估结果:\n",
      "准确率: 0.9815\n",
      "精确率: 0.9815\n",
      "召回率: 0.9815\n",
      "F1分数: 0.9815\n",
      "高风险类别 - 精确率: 0.9810, 召回率: 0.9789\n",
      "训练时间: 0.65 秒\n",
      "\n",
      "分析特征重要性...\n"
     ]
    },
    {
     "data": {
      "text/plain": [
       "<Figure size 1000x800 with 1 Axes>"
      ],
      "image/png": "[encoded data removed]"
     },
     "metadata": {},
     "output_type": "display_data"
    },
    {
     "name": "stdout",
     "output_type": "stream",
     "text": [
      "\n",
      "模型已保存为 randomforest_model.pkl\n",
      "\n",
      "RandomForest 模型总结:\n",
      "总体 F1 分数: 0.9815\n",
      "高风险类别识别能力 (召回率): 0.9789\n"
     ]
    }
   ],
   "execution_count": 33
  }
 ],
 "metadata": {
  "kernelspec": {
   "display_name": "Python 3",
   "language": "python",
   "name": "python3"
  },
  "language_info": {
   "codemirror_mode": {
    "name": "ipython",
    "version": 2
   },
   "file_extension": ".py",
   "mimetype": "text/x-python",
   "name": "python",
   "nbconvert_exporter": "python",
   "pygments_lexer": "ipython2",
   "version": "2.7.6"
  }
 },
 "nbformat": 4,
 "nbformat_minor": 5
}
